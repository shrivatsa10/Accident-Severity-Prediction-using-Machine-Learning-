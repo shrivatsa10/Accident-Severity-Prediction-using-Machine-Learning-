{
 "cells": [
  {
   "cell_type": "code",
   "execution_count": null,
   "metadata": {},
   "outputs": [],
   "source": [
    "from flask import Flask,request, url_for, redirect, render_template\n",
    "import pickle\n",
    "import numpy as np\n",
    "\n",
    "app = Flask(__name__)\n",
    "\n",
    "test=pickle.load(open('test1.pkl','rb'))\n",
    "\n",
    "\n",
    "@app.route('/')\n",
    "def hello_world():\n",
    "    return render_template(\"T.html\")\n",
    "\n",
    "@app.route('/predict',methods=['POST','GET'])\n",
    "def predict():\n",
    "    int_features=[int(x) for x in request.form.values()]\n",
    "    final=[np.array(int_features)]\n",
    "    print(int_features)\n",
    "    print(final)\n",
    "    prediction=test.predict(final)\n",
    "\n",
    "    if prediction == 0:\n",
    "        return render_template('T.html',pred=\"\\t\\t\\t\\t\\tProbability of accident severity is : Minor\")\n",
    "    else:\n",
    "        return render_template('T.html',pred=\"\\t\\t\\t\\t\\tProbability of accident severity is : Major\")\n",
    "\n",
    "@app.route('/Map')\n",
    "def map1():\n",
    "    return render_template(\"Map.html\")    \n",
    "\n",
    "@app.route('/Graphs')\n",
    "def graph():\n",
    "    return render_template(\"graph.html\")\n",
    "\n",
    "@app.route('/Map1')\n",
    "def map2():\n",
    "    return render_template(\"UR.html\")\n",
    "\n",
    "@app.route('/Map2')\n",
    "def map3():\n",
    "    return render_template(\"BS.html\")\n",
    "\n",
    "@app.route('/Map3')\n",
    "def map4():\n",
    "    return render_template(\"HM.html\")\n",
    "\n",
    "@app.route('/Pie')\n",
    "def pie():\n",
    "    return render_template(\"Pie.html\")\n",
    "\n",
    "\n",
    "if __name__==\"__main__\":\n",
    "    app.run(debug=False) "
   ]
  },
  {
   "cell_type": "code",
   "execution_count": null,
   "metadata": {},
   "outputs": [],
   "source": []
  }
 ],
 "metadata": {
  "kernelspec": {
   "display_name": "Python 3",
   "language": "python",
   "name": "python3"
  },
  "language_info": {
   "codemirror_mode": {
    "name": "ipython",
    "version": 3
   },
   "file_extension": ".py",
   "mimetype": "text/x-python",
   "name": "python",
   "nbconvert_exporter": "python",
   "pygments_lexer": "ipython3",
   "version": "3.7.6"
  }
 },
 "nbformat": 4,
 "nbformat_minor": 4
}
